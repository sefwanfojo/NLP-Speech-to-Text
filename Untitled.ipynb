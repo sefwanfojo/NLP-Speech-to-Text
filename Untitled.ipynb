{
 "cells": [
  {
   "cell_type": "code",
   "execution_count": 11,
   "id": "3a70f5c4",
   "metadata": {},
   "outputs": [
    {
     "name": "stdout",
     "output_type": "stream",
     "text": [
      "Requirement already satisfied: pillow in c:\\users\\safwan fojo\\anaconda3\\lib\\site-packages (9.4.0)Note: you may need to restart the kernel to use updated packages.\n",
      "\n"
     ]
    },
    {
     "name": "stderr",
     "output_type": "stream",
     "text": [
      "WARNING: Ignoring invalid distribution -atplotlib (c:\\users\\safwan fojo\\anaconda3\\lib\\site-packages)\n",
      "WARNING: Ignoring invalid distribution -atplotlib (c:\\users\\safwan fojo\\anaconda3\\lib\\site-packages)\n",
      "WARNING: Ignoring invalid distribution -atplotlib (c:\\users\\safwan fojo\\anaconda3\\lib\\site-packages)\n",
      "WARNING: Ignoring invalid distribution -atplotlib (c:\\users\\safwan fojo\\anaconda3\\lib\\site-packages)\n",
      "WARNING: Ignoring invalid distribution -atplotlib (c:\\users\\safwan fojo\\anaconda3\\lib\\site-packages)\n",
      "WARNING: Ignoring invalid distribution -atplotlib (c:\\users\\safwan fojo\\anaconda3\\lib\\site-packages)\n"
     ]
    }
   ],
   "source": [
    "pip install pillow"
   ]
  },
  {
   "cell_type": "code",
   "execution_count": 12,
   "id": "1c927a5c",
   "metadata": {},
   "outputs": [
    {
     "ename": "FileNotFoundError",
     "evalue": "[Errno 2] No such file or directory: 'certificate_template.png'",
     "output_type": "error",
     "traceback": [
      "\u001b[1;31m---------------------------------------------------------------------------\u001b[0m",
      "\u001b[1;31mFileNotFoundError\u001b[0m                         Traceback (most recent call last)",
      "Cell \u001b[1;32mIn[12], line 27\u001b[0m\n\u001b[0;32m      4\u001b[0m json_data \u001b[38;5;241m=\u001b[39m {\n\u001b[0;32m      5\u001b[0m     \u001b[38;5;124m\"\u001b[39m\u001b[38;5;124memail\u001b[39m\u001b[38;5;124m\"\u001b[39m: \u001b[38;5;124m\"\u001b[39m\u001b[38;5;124msafwanp2010@gmail.com\u001b[39m\u001b[38;5;124m\"\u001b[39m,\n\u001b[0;32m      6\u001b[0m     \u001b[38;5;124m\"\u001b[39m\u001b[38;5;124mfirstName\u001b[39m\u001b[38;5;124m\"\u001b[39m: \u001b[38;5;124m\"\u001b[39m\u001b[38;5;124mSafwan\u001b[39m\u001b[38;5;124m\"\u001b[39m,\n\u001b[1;32m   (...)\u001b[0m\n\u001b[0;32m     22\u001b[0m     \u001b[38;5;124m\"\u001b[39m\u001b[38;5;124mprofileCreatedAt\u001b[39m\u001b[38;5;124m\"\u001b[39m: \u001b[38;5;241m1704803718273\u001b[39m\n\u001b[0;32m     23\u001b[0m }\n\u001b[0;32m     25\u001b[0m \u001b[38;5;66;03m# Step 1: Load or create a certificate template\u001b[39;00m\n\u001b[0;32m     26\u001b[0m \u001b[38;5;66;03m# Replace 'certificate_template.png' with your template image path\u001b[39;00m\n\u001b[1;32m---> 27\u001b[0m certificate_template \u001b[38;5;241m=\u001b[39m \u001b[43mImage\u001b[49m\u001b[38;5;241;43m.\u001b[39;49m\u001b[43mopen\u001b[49m\u001b[43m(\u001b[49m\u001b[38;5;124;43m\"\u001b[39;49m\u001b[38;5;124;43mcertificate_template.png\u001b[39;49m\u001b[38;5;124;43m\"\u001b[39;49m\u001b[43m)\u001b[49m\n\u001b[0;32m     29\u001b[0m \u001b[38;5;66;03m# Step 2: Create a draw object\u001b[39;00m\n\u001b[0;32m     30\u001b[0m draw \u001b[38;5;241m=\u001b[39m ImageDraw\u001b[38;5;241m.\u001b[39mDraw(certificate_template)\n",
      "File \u001b[1;32m~\\anaconda3\\lib\\site-packages\\PIL\\Image.py:3227\u001b[0m, in \u001b[0;36mopen\u001b[1;34m(fp, mode, formats)\u001b[0m\n\u001b[0;32m   3224\u001b[0m     filename \u001b[38;5;241m=\u001b[39m fp\n\u001b[0;32m   3226\u001b[0m \u001b[38;5;28;01mif\u001b[39;00m filename:\n\u001b[1;32m-> 3227\u001b[0m     fp \u001b[38;5;241m=\u001b[39m \u001b[43mbuiltins\u001b[49m\u001b[38;5;241;43m.\u001b[39;49m\u001b[43mopen\u001b[49m\u001b[43m(\u001b[49m\u001b[43mfilename\u001b[49m\u001b[43m,\u001b[49m\u001b[43m \u001b[49m\u001b[38;5;124;43m\"\u001b[39;49m\u001b[38;5;124;43mrb\u001b[39;49m\u001b[38;5;124;43m\"\u001b[39;49m\u001b[43m)\u001b[49m\n\u001b[0;32m   3228\u001b[0m     exclusive_fp \u001b[38;5;241m=\u001b[39m \u001b[38;5;28;01mTrue\u001b[39;00m\n\u001b[0;32m   3230\u001b[0m \u001b[38;5;28;01mtry\u001b[39;00m:\n",
      "\u001b[1;31mFileNotFoundError\u001b[0m: [Errno 2] No such file or directory: 'certificate_template.png'"
     ]
    }
   ],
   "source": [
    "from PIL import Image, ImageDraw, ImageFont\n",
    "\n",
    "# Sample JSON data\n",
    "json_data = {\n",
    "    \"email\": \"safwanp2010@gmail.com\",\n",
    "    \"firstName\": \"Safwan\",\n",
    "    \"lastName\": \"Abdul Hameed\",\n",
    "    \"fullName\": \"Safwan Abdul Hameed\",\n",
    "    \"countryCode\": \"IN\",\n",
    "    \"mathSkills\": [\n",
    "        {\"mathField\": \"Algebra\", \"lmsCourseStatus\": \"REVIEW_QUALIFIED\", \"professorStatus\": \"PROFESSOR_QUALIFIED\"},\n",
    "        {\"mathField\": \"Calculus\", \"lmsCourseStatus\": \"REVIEW_QUALIFIED\", \"professorStatus\": \"PROFESSOR_QUALIFIED\"},\n",
    "        {\"mathField\": \"Elementary\", \"lmsCourseStatus\": \"REVIEW_QUALIFIED\", \"professorStatus\": \"PROFESSOR_QUALIFIED\"}\n",
    "    ],\n",
    "    \"expertCategories\": [\n",
    "        {\"type\": \"enter\", \"category\": \"top\"},\n",
    "        {\"type\": \"review\", \"category\": \"onHold\"}\n",
    "    ],\n",
    "    \"userCreatedAt\": 1649438781693,\n",
    "    \"numSolved\": 208,\n",
    "    \"numReviewed\": 179,\n",
    "    \"profileCreatedAt\": 1704803718273\n",
    "}\n",
    "\n",
    "# Step 1: Load or create a certificate template\n",
    "# Replace 'certificate_template.png' with your template image path\n",
    "certificate_template = Image.open(\"certificate_template.png\")\n",
    "\n",
    "# Step 2: Create a draw object\n",
    "draw = ImageDraw.Draw(certificate_template)\n",
    "\n",
    "# Step 3: Set font styles (you can customize font path and size)\n",
    "font = ImageFont.truetype(\"arial.ttf\", 40)\n",
    "font_small = ImageFont.truetype(\"arial.ttf\", 30)\n",
    "\n",
    "# Step 4: Add text to the certificate\n",
    "draw.text((250, 150), f\"Certificate of Achievement\", font=font, fill=\"black\")\n",
    "draw.text((200, 250), f\"Presented to: {json_data['fullName']}\", font=font, fill=\"black\")\n",
    "draw.text((200, 350), f\"Email: {json_data['email']}\", font=font_small, fill=\"black\")\n",
    "draw.text((200, 450), f\"Country: {json_data['countryCode']}\", font=font_small, fill=\"black\")\n",
    "\n",
    "# List skills\n",
    "draw.text((200, 550), \"Skills:\", font=font_small, fill=\"black\")\n",
    "y_position = 600\n",
    "for skill in json_data['mathSkills']:\n",
    "    skill_text = f\"{skill['mathField']} - {skill['lmsCourseStatus']} ({skill['professorStatus']})\"\n",
    "    draw.text((250, y_position), skill_text, font=font_small, fill=\"black\")\n",
    "    y_position += 50\n",
    "\n",
    "# Add additional information\n",
    "draw.text((200, y_position + 50), f\"Solved Problems: {json_data['numSolved']}\", font=font_small, fill=\"black\")\n",
    "draw.text((200, y_position + 100), f\"Reviewed Problems: {json_data['numReviewed']}\", font=font_small, fill=\"black\")\n",
    "\n",
    "# Step 5: Save the certificate\n",
    "output_certificate = \"generated_certificate.png\"\n",
    "certificate_template.save(output_certificate)\n",
    "\n",
    "print(f\"Certificate created successfully and saved as {output_certificate}\")\n"
   ]
  },
  {
   "cell_type": "code",
   "execution_count": null,
   "id": "cd4d36c6",
   "metadata": {},
   "outputs": [],
   "source": []
  }
 ],
 "metadata": {
  "kernelspec": {
   "display_name": "Python 3 (ipykernel)",
   "language": "python",
   "name": "python3"
  },
  "language_info": {
   "codemirror_mode": {
    "name": "ipython",
    "version": 3
   },
   "file_extension": ".py",
   "mimetype": "text/x-python",
   "name": "python",
   "nbconvert_exporter": "python",
   "pygments_lexer": "ipython3",
   "version": "3.10.9"
  }
 },
 "nbformat": 4,
 "nbformat_minor": 5
}
